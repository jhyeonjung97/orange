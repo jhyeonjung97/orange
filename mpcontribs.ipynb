{
 "cells": [
  {
   "cell_type": "code",
   "execution_count": 14,
   "id": "08be5065",
   "metadata": {},
   "outputs": [],
   "source": [
    "from mpcontribs.client import Client\n",
    "client = Client(apikey='3jSckrUWEJ94DEo93ZOlCwNd2B1BHerV')\n",
    "\n",
    "c = client.get_contribution('618b403796b9dd99c18b2740')"
   ]
  },
  {
   "cell_type": "code",
   "execution_count": 27,
   "id": "a9ec07b1",
   "metadata": {},
   "outputs": [
    {
     "data": {
      "text/plain": [
       "mpcontribs.client.Client"
      ]
     },
     "execution_count": 27,
     "metadata": {},
     "output_type": "execute_result"
    }
   ],
   "source": [
    "type(client)"
   ]
  },
  {
   "cell_type": "code",
   "execution_count": 26,
   "id": "1f47aac9",
   "metadata": {},
   "outputs": [
    {
     "data": {
      "text/html": [
       "<table class=\"table is-narrow is-fullwidth has-background-light\"><tr><th>attachments</th><td></td></tr><tr><th>data</th><td><table class=\"table is-narrow is-fullwidth has-background-light\"><tr><th>charge</th><td>2.0</td></tr><tr><th>ΔGᶠ</th><td>-227.93 kJ/mol</td></tr><tr><th>MajElements</th><td>Mn</td></tr><tr><th>RefSolid</th><td>MnO2</td></tr><tr><th>ΔGᶠRefSolid</th><td>-466.1 kJ/mol</td></tr><tr><th>reference</th><td>D. D. Wagman et al., Selected values of chemical thermodynamic properties, NBS Technical note 270, Washington; 1968-1971</td></tr></table></td></tr><tr><th>formula</th><td>Mn[2+]</td></tr><tr><th>id</th><td>618b403796b9dd99c18b2740</td></tr><tr><th>identifier</th><td>Mn[2+]</td></tr><tr><th>is_public</th><td>True</td></tr><tr><th>last_modified</th><td>2021-11-10 03:44:55.099000</td></tr><tr><th>notebook</th><td><table class=\"table is-narrow is-fullwidth has-background-light\"><tr><th>id</th><td>618b40852aed1f9d29365a81</td></tr><tr><th>nbformat</th><td>4</td></tr><tr><th>nbformat_minor</th><td>5</td></tr></table></td></tr><tr><th>project</th><td>ion_ref_data</td></tr><tr><th>structures</th><td></td></tr><tr><th>tables</th><td></td></tr></table>"
      ],
      "text/plain": [
       "<IPython.core.display.HTML object>"
      ]
     },
     "metadata": {},
     "output_type": "display_data"
    }
   ],
   "source": [
    "c.display()"
   ]
  },
  {
   "cell_type": "code",
   "execution_count": 15,
   "id": "5df10ac1",
   "metadata": {},
   "outputs": [
    {
     "data": {
      "text/plain": [
       "dict_keys(['attachments', 'data', 'formula', 'id', 'identifier', 'is_public', 'last_modified', 'notebook', 'project', 'structures', 'tables'])"
      ]
     },
     "execution_count": 15,
     "metadata": {},
     "output_type": "execute_result"
    }
   ],
   "source": [
    "c.keys()"
   ]
  },
  {
   "cell_type": "code",
   "execution_count": 18,
   "id": "4b8cd411",
   "metadata": {},
   "outputs": [
    {
     "data": {
      "text/plain": [
       "{'charge': {'display': '2.0', 'value': 2.0, 'error': None, 'unit': ''},\n",
       " 'ΔGᶠ': {'display': '-227.93 kJ/mol',\n",
       "  'value': -227.93,\n",
       "  'error': None,\n",
       "  'unit': 'kJ/mol'},\n",
       " 'MajElements': 'Mn',\n",
       " 'RefSolid': 'MnO2',\n",
       " 'ΔGᶠRefSolid': {'display': '-466.1 kJ/mol',\n",
       "  'value': -466.1,\n",
       "  'error': None,\n",
       "  'unit': 'kJ/mol'},\n",
       " 'reference': 'D. D. Wagman et al., Selected values of chemical thermodynamic properties, NBS Technical note 270, Washington; 1968-1971'}"
      ]
     },
     "execution_count": 18,
     "metadata": {},
     "output_type": "execute_result"
    }
   ],
   "source": [
    "c['data']"
   ]
  },
  {
   "cell_type": "code",
   "execution_count": 21,
   "id": "cb85e5b7",
   "metadata": {},
   "outputs": [
    {
     "data": {
      "text/plain": [
       "-227.93"
      ]
     },
     "execution_count": 21,
     "metadata": {},
     "output_type": "execute_result"
    }
   ],
   "source": [
    "c['data']['ΔGᶠ']['value']"
   ]
  },
  {
   "cell_type": "code",
   "execution_count": 25,
   "id": "9b8de34d",
   "metadata": {},
   "outputs": [
    {
     "ename": "MPContribsClientError",
     "evalue": "`include` must be subset of ['structures', 'tables', 'attachments']!",
     "output_type": "error",
     "traceback": [
      "\u001b[0;31mMPContribsClientError\u001b[0m\u001b[0;31m:\u001b[0m `include` must be subset of ['structures', 'tables', 'attachments']!\n"
     ]
    }
   ],
   "source": [
    "client.get_all_ids(1,'Li').keys()"
   ]
  },
  {
   "cell_type": "code",
   "execution_count": null,
   "id": "ab79adea",
   "metadata": {},
   "outputs": [],
   "source": [
    "get_project"
   ]
  }
 ],
 "metadata": {
  "kernelspec": {
   "display_name": "Python 3 (ipykernel)",
   "language": "python",
   "name": "python3"
  },
  "language_info": {
   "codemirror_mode": {
    "name": "ipython",
    "version": 3
   },
   "file_extension": ".py",
   "mimetype": "text/x-python",
   "name": "python",
   "nbconvert_exporter": "python",
   "pygments_lexer": "ipython3",
   "version": "3.11.5"
  }
 },
 "nbformat": 4,
 "nbformat_minor": 5
}
