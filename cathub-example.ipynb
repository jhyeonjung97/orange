{
 "cells": [
  {
   "cell_type": "code",
   "execution_count": 62,
   "id": "7bb079e1",
   "metadata": {},
   "outputs": [],
   "source": [
    "from cathub.cathubsql import CathubSQL\n",
    "\n",
    "# To get data on catalysis-hub.org\n",
    "db = CathubSQL()"
   ]
  },
  {
   "cell_type": "code",
   "execution_count": 63,
   "id": "4aa77c64",
   "metadata": {},
   "outputs": [
    {
     "name": "stdout",
     "output_type": "stream",
     "text": [
      "Querying database\n",
      "\n"
     ]
    }
   ],
   "source": [
    "pub_id='RolingConfigurational2017'\n",
    "dataframe = db.get_dataframe(pub_id=pub_id,\n",
    "                          reactants={'Irgas': 1},\n",
    "                          products={'Irstar': 1},\n",
    "                          surface_composition='Ir',\n",
    "                          facet = '100'\n",
    "                         )\n",
    "dataframe.to_pickle(pub_id + '.pickle')"
   ]
  },
  {
   "cell_type": "code",
   "execution_count": 64,
   "id": "4729636d",
   "metadata": {},
   "outputs": [
    {
     "name": "stdout",
     "output_type": "stream",
     "text": [
      "   reaction_id chemical_composition surface_composition facet sites coverages  \\\n",
      "0         8053                 Ir25                  Ir   100  None      None   \n",
      "1         8054                 Ir25                  Ir   100  None      None   \n",
      "2         8055                 Ir26                  Ir   100  None      None   \n",
      "3         8056                 Ir27                  Ir   100  None      None   \n",
      "4         8057                 Ir24                  Ir   100  None      None   \n",
      "5         8058                 Ir26                  Ir   100  None      None   \n",
      "\n",
      "                 reactants       products  reaction_energy activation_energy  \\\n",
      "0  {'star': 1, 'Irgas': 1}  {'Irstar': 1}        -7.127407              None   \n",
      "1  {'star': 1, 'Irgas': 1}  {'Irstar': 1}        -5.857103              None   \n",
      "2  {'star': 1, 'Irgas': 1}  {'Irstar': 1}        -8.018749              None   \n",
      "3  {'star': 1, 'Irgas': 1}  {'Irstar': 1}        -7.285029              None   \n",
      "4  {'star': 1, 'Irgas': 1}  {'Irstar': 1}        -6.029960              None   \n",
      "5  {'star': 1, 'Irgas': 1}  {'Irstar': 1}        -6.748445              None   \n",
      "\n",
      "               dft_code dft_functional username                     pub_id  \\\n",
      "0  Quantum ESPRESSO 5.1           RPBE   roling  RolingConfigurational2017   \n",
      "1  Quantum ESPRESSO 5.1           RPBE   roling  RolingConfigurational2017   \n",
      "2  Quantum ESPRESSO 5.1           RPBE   roling  RolingConfigurational2017   \n",
      "3  Quantum ESPRESSO 5.1           RPBE   roling  RolingConfigurational2017   \n",
      "4  Quantum ESPRESSO 5.1           RPBE   roling  RolingConfigurational2017   \n",
      "5  Quantum ESPRESSO 5.1           RPBE   roling  RolingConfigurational2017   \n",
      "\n",
      "              atoms_name                                           atoms_id  \\\n",
      "0  [Irgas, Irstar, star]  [90bc179e9543b048e3f6b1d234788285, a4072a01615...   \n",
      "1  [Irstar, Irgas, star]  [7e953f32c34df9d0c79be03f3ad4643d, 90bc179e954...   \n",
      "2  [Irstar, star, Irgas]  [354e230fabb4c56704590d97d3f60f0c, 7e953f32c34...   \n",
      "3  [star, Irstar, Irgas]  [354e230fabb4c56704590d97d3f60f0c, 464a92ab1c1...   \n",
      "4  [Irgas, star, Irstar]  [90bc179e9543b048e3f6b1d234788285, 9a19c87a803...   \n",
      "5  [Irstar, Irgas, star]  [354e230fabb4c56704590d97d3f60f0c, 90bc179e954...   \n",
      "\n",
      "                        doi          equation  \n",
      "0  10.1021/acs.jpcc.7b08438  Ir(g) + * -> Ir*  \n",
      "1  10.1021/acs.jpcc.7b08438  Ir(g) + * -> Ir*  \n",
      "2  10.1021/acs.jpcc.7b08438  Ir(g) + * -> Ir*  \n",
      "3  10.1021/acs.jpcc.7b08438  Ir(g) + * -> Ir*  \n",
      "4  10.1021/acs.jpcc.7b08438  Ir(g) + * -> Ir*  \n",
      "5  10.1021/acs.jpcc.7b08438  Ir(g) + * -> Ir*  \n"
     ]
    }
   ],
   "source": [
    "print(dataframe)"
   ]
  },
  {
   "cell_type": "code",
   "execution_count": 97,
   "id": "d55c6514",
   "metadata": {},
   "outputs": [
    {
     "name": "stdout",
     "output_type": "stream",
     "text": [
      "   reaction_id chemical_composition facet  reaction_energy  \\\n",
      "0         8053                 Ir25   100        -7.127407   \n",
      "1         8054                 Ir25   100        -5.857103   \n",
      "2         8055                 Ir26   100        -8.018749   \n",
      "3         8056                 Ir27   100        -7.285029   \n",
      "4         8057                 Ir24   100        -6.029960   \n",
      "5         8058                 Ir26   100        -6.748445   \n",
      "\n",
      "                                            atoms_id  \n",
      "0  [90bc179e9543b048e3f6b1d234788285, a4072a01615...  \n",
      "1  [7e953f32c34df9d0c79be03f3ad4643d, 90bc179e954...  \n",
      "2  [354e230fabb4c56704590d97d3f60f0c, 7e953f32c34...  \n",
      "3  [354e230fabb4c56704590d97d3f60f0c, 464a92ab1c1...  \n",
      "4  [90bc179e9543b048e3f6b1d234788285, 9a19c87a803...  \n",
      "5  [354e230fabb4c56704590d97d3f60f0c, 90bc179e954...  \n"
     ]
    }
   ],
   "source": [
    "df = dataframe[['reaction_id', 'chemical_composition', 'facet', 'reaction_energy' ,'atoms_id']]\n",
    "print(df)"
   ]
  },
  {
   "cell_type": "code",
   "execution_count": 98,
   "id": "6d981529",
   "metadata": {},
   "outputs": [
    {
     "name": "stdout",
     "output_type": "stream",
     "text": [
      "90bc179e9543b048e3f6b1d234788285\n"
     ]
    }
   ],
   "source": [
    "print(df.atoms_id[0][0])"
   ]
  },
  {
   "cell_type": "code",
   "execution_count": 103,
   "id": "20218e56",
   "metadata": {},
   "outputs": [
    {
     "name": "stdout",
     "output_type": "stream",
     "text": [
      "-2467.05276111961\n"
     ]
    }
   ],
   "source": [
    "atoms=db.get_atoms_for_id(atoms_id=df.atoms_id[0][0])\n",
    "print(atoms[0].get_total_energy())"
   ]
  },
  {
   "cell_type": "code",
   "execution_count": 105,
   "id": "1d715b5c",
   "metadata": {},
   "outputs": [
    {
     "ename": "SyntaxError",
     "evalue": "invalid syntax (2991899581.py, line 1)",
     "output_type": "error",
     "traceback": [
      "\u001b[0;36m  Input \u001b[0;32mIn [105]\u001b[0;36m\u001b[0m\n\u001b[0;31m    dissolution_energy =\u001b[0m\n\u001b[0m                         ^\u001b[0m\n\u001b[0;31mSyntaxError\u001b[0m\u001b[0;31m:\u001b[0m invalid syntax\n"
     ]
    }
   ],
   "source": [
    "# cathub reaction: * + Ir(g) -> *Ir\n",
    "# dissolution reaction: * -> *Ir_vac + Ir3+(aq) + 2e-\n",
    "#     can be expressed: *Ir -> * + Ir3+(aq) + 2e-\n",
    "\n",
    "# standard potential: Ir3+(aq) + 3e- -> Ir(s) [E = 1.156 V]\n",
    "# from my calculation: Ir(s) = -8.84234125 eV\n",
    "Ir_gas = \n",
    "\n",
    "dissolution_energy = "
   ]
  },
  {
   "cell_type": "code",
   "execution_count": 108,
   "id": "05ba22ce",
   "metadata": {},
   "outputs": [],
   "source": [
    "import cathub.ase_tools.gas_phase_references\n"
   ]
  },
  {
   "cell_type": "code",
   "execution_count": null,
   "id": "172249c4",
   "metadata": {},
   "outputs": [],
   "source": []
  },
  {
   "cell_type": "code",
   "execution_count": null,
   "id": "9a3bef16",
   "metadata": {},
   "outputs": [],
   "source": []
  },
  {
   "cell_type": "code",
   "execution_count": null,
   "id": "5257ed13",
   "metadata": {},
   "outputs": [],
   "source": []
  },
  {
   "cell_type": "code",
   "execution_count": null,
   "id": "74d3f6da",
   "metadata": {},
   "outputs": [],
   "source": [
    "import numpy as np\n",
    "import pylab as p\n",
    "\n",
    "loc_O = (dataframe[\"equation\"] =='H2O(g) - H2(g) + * -> O*') \n",
    "loc_OH = (dataframe[\"equation\"] =='H2O(g) - 0.5H2(g) + * -> HO*') \n",
    "\n",
    "ads_O = dataframe[loc_O]\n",
    "ads_OH = dataframe[loc_OH]\n",
    "\n",
    "# Combine O and OH in one dataframe, matching on surface compositions\n",
    "dataframe_together = ads_O.merge(ads_OH, \n",
    "                                 on=['surface_composition', 'facet'],\n",
    "                                 suffixes=('_O', '_OH'))\n",
    "\n",
    "\n",
    "\n",
    "x_data = dataframe_together['reaction_energy_OH']\n",
    "y_data = dataframe_together['reaction_energy_O']\n",
    "p.figure(figsize=(10,10))\n",
    "p.scatter(x_data, y_data)\n",
    "for i, txt in enumerate(dataframe_together['surface_composition']):\n",
    "    p.gca().annotate(txt,\n",
    "        (x_data[i],\n",
    "         y_data[i]))\n",
    "p.title('Dissolution energy', fontsize=20)\n",
    "p.xlabel('Potential (V vs. RHE)', fontsize=16)\n",
    "p.ylabel('Relative energy (eV)', fontsize=16)\n",
    "\n",
    "\n",
    "fit = np.polyfit(x_data,\n",
    "                 y_data,\n",
    "                 1)\n",
    "\n",
    "a = fit[0]\n",
    "b = fit[1]\n",
    "xfit = np.array([-2, 3])\n",
    "yfit = a * xfit + b\n",
    "             \n",
    "p.plot(xfit, yfit, '--', label='y={:.2f}x + {:.2f}'.format(a,b))\n",
    "p.legend(prop={'size':18})\n",
    "\n",
    "p.show()"
   ]
  }
 ],
 "metadata": {
  "celltoolbar": "Raw Cell Format",
  "kernelspec": {
   "display_name": "Python 3 (ipykernel)",
   "language": "python",
   "name": "python3"
  },
  "language_info": {
   "codemirror_mode": {
    "name": "ipython",
    "version": 3
   },
   "file_extension": ".py",
   "mimetype": "text/x-python",
   "name": "python",
   "nbconvert_exporter": "python",
   "pygments_lexer": "ipython3",
   "version": "3.9.13"
  }
 },
 "nbformat": 4,
 "nbformat_minor": 5
}
